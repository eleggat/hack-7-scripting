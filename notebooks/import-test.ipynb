{
 "cells": [
  {
   "cell_type": "code",
   "execution_count": 1,
   "id": "ed7d0950-e709-4642-981f-84fedf673213",
   "metadata": {},
   "outputs": [
    {
     "name": "stdout",
     "output_type": "stream",
     "text": [
      "['/Users/emilyleggat/miniconda3/lib/python312.zip', '/Users/emilyleggat/miniconda3/lib/python3.12', '/Users/emilyleggat/miniconda3/lib/python3.12/lib-dynload', '', '/Users/emilyleggat/miniconda3/lib/python3.12/site-packages']\n"
     ]
    }
   ],
   "source": [
    "# import sys from the standard lib\n",
    "import sys\n",
    "print(sys.path)"
   ]
  },
  {
   "cell_type": "code",
   "execution_count": 2,
   "id": "7c583032-27c1-4805-a981-f8170124d122",
   "metadata": {},
   "outputs": [
    {
     "name": "stdout",
     "output_type": "stream",
     "text": [
      "['/Users/emilyleggat/miniconda3/lib/python312.zip', '/Users/emilyleggat/miniconda3/lib/python3.12', '/Users/emilyleggat/miniconda3/lib/python3.12/lib-dynload', '', '/Users/emilyleggat/miniconda3/lib/python3.12/site-packages', '../']\n"
     ]
    }
   ],
   "source": [
    "import sys\n",
    "\n",
    "# append your current parent dir to the sys.path list\n",
    "sys.path.append(\"../\")\n",
    "\n",
    "# show the updated sys.path \n",
    "print(sys.path)"
   ]
  },
  {
   "cell_type": "code",
   "execution_count": 3,
   "id": "2b716026-163d-46a3-a97e-1211436e3a3d",
   "metadata": {},
   "outputs": [
    {
     "data": {
      "text/plain": [
       "'Better not tell you now.'"
      ]
     },
     "execution_count": 3,
     "metadata": {},
     "output_type": "execute_result"
    }
   ],
   "source": [
    "from mypackage import mymodule\n",
    "mymodule.magic_eight_ball()"
   ]
  },
  {
   "cell_type": "code",
   "execution_count": 1,
   "id": "d6fa3c97-c8b3-4a80-9a11-bdc3c013b1a0",
   "metadata": {},
   "outputs": [
    {
     "data": {
      "text/plain": [
       "\u001b[0;31mType:\u001b[0m        module\n",
       "\u001b[0;31mString form:\u001b[0m <module 'mypackage' from '/Users/emilyleggat/Documents/GitHub/hacks/hack-7-scripting/notebooks/../mypackage/__init__.py'>\n",
       "\u001b[0;31mFile:\u001b[0m        ~/Documents/GitHub/hacks/hack-7-scripting/mypackage/__init__.py\n",
       "\u001b[0;31mDocstring:\u001b[0m   The mypackage package is used to learn about package filestructure."
      ]
     },
     "metadata": {},
     "output_type": "display_data"
    }
   ],
   "source": [
    "# add our local package scope to sys.path\n",
    "import sys\n",
    "sys.path.append(\"..\")\n",
    "\n",
    "# access our module function from the package-level import\n",
    "import mypackage\n",
    "mypackage.mymodule.magic_eight_ball()\n",
    "\n",
    "# show the package-level docstring\n",
    "mypackage?"
   ]
  }
 ],
 "metadata": {
  "kernelspec": {
   "display_name": "Python 3 (ipykernel)",
   "language": "python",
   "name": "python3"
  },
  "language_info": {
   "codemirror_mode": {
    "name": "ipython",
    "version": 3
   },
   "file_extension": ".py",
   "mimetype": "text/x-python",
   "name": "python",
   "nbconvert_exporter": "python",
   "pygments_lexer": "ipython3",
   "version": "3.12.2"
  }
 },
 "nbformat": 4,
 "nbformat_minor": 5
}
